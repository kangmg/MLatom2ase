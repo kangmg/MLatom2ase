{
  "nbformat": 4,
  "nbformat_minor": 0,
  "metadata": {
    "colab": {
      "provenance": [],
      "authorship_tag": "ABX9TyPOnTjz8GqrLCk4ukGenvUC",
      "include_colab_link": true
    },
    "kernelspec": {
      "name": "python3",
      "display_name": "Python 3"
    },
    "language_info": {
      "name": "python"
    }
  },
  "cells": [
    {
      "cell_type": "markdown",
      "metadata": {
        "id": "view-in-github",
        "colab_type": "text"
      },
      "source": [
        "<a href=\"https://colab.research.google.com/github/kangmg/MLatom2ase/blob/main/notebook/mlatom_ase.ipynb\" target=\"_parent\"><img src=\"https://colab.research.google.com/assets/colab-badge.svg\" alt=\"Open In Colab\"/></a>"
      ]
    },
    {
      "cell_type": "code",
      "execution_count": 1,
      "metadata": {
        "id": "U2gKeIU0fc1w",
        "colab": {
          "base_uri": "https://localhost:8080/"
        },
        "outputId": "093451d0-3454-4868-a34b-46593d88b7f4"
      },
      "outputs": [
        {
          "output_type": "stream",
          "name": "stdout",
          "text": [
            "  Preparing metadata (setup.py) ... \u001b[?25l\u001b[?25hdone\n",
            "\u001b[2K   \u001b[90m━━━━━━━━━━━━━━━━━━━━━━━━━━━━━━━━━━━━━━━━\u001b[0m \u001b[32m2.9/2.9 MB\u001b[0m \u001b[31m23.3 MB/s\u001b[0m eta \u001b[36m0:00:00\u001b[0m\n",
            "\u001b[2K   \u001b[90m━━━━━━━━━━━━━━━━━━━━━━━━━━━━━━━━━━━━━━━━\u001b[0m \u001b[32m90.8/90.8 MB\u001b[0m \u001b[31m2.5 MB/s\u001b[0m eta \u001b[36m0:00:00\u001b[0m\n",
            "\u001b[2K   \u001b[90m━━━━━━━━━━━━━━━━━━━━━━━━━━━━━━━━━━━━━━━━\u001b[0m \u001b[32m10.9/10.9 MB\u001b[0m \u001b[31m4.6 MB/s\u001b[0m eta \u001b[36m0:00:00\u001b[0m\n",
            "\u001b[2K   \u001b[90m━━━━━━━━━━━━━━━━━━━━━━━━━━━━━━━━━━━━━━━━\u001b[0m \u001b[32m103.5/103.5 kB\u001b[0m \u001b[31m4.8 MB/s\u001b[0m eta \u001b[36m0:00:00\u001b[0m\n",
            "\u001b[?25h  Building wheel for mlatom2ase (setup.py) ... \u001b[?25l\u001b[?25hdone\n"
          ]
        }
      ],
      "source": [
        "!pip install -q git+https://github.com/kangmg/MLatom2ase.git\n",
        "!pip install -q condacolab"
      ]
    },
    {
      "cell_type": "code",
      "source": [
        "import condacolab\n",
        "condacolab.install()"
      ],
      "metadata": {
        "id": "ihEetMaaOMI5",
        "outputId": "b0d18f6c-3486-4dc0-9331-e86fd0e76667",
        "colab": {
          "base_uri": "https://localhost:8080/"
        }
      },
      "execution_count": 1,
      "outputs": [
        {
          "output_type": "stream",
          "name": "stdout",
          "text": [
            "✨🍰✨ Everything looks OK!\n"
          ]
        }
      ]
    },
    {
      "cell_type": "code",
      "source": [
        "!conda install dftd4"
      ],
      "metadata": {
        "id": "vgKA1AkvORBe",
        "colab": {
          "base_uri": "https://localhost:8080/"
        },
        "outputId": "c1b59b86-24f5-4f7b-d80c-0ff635b324f4"
      },
      "execution_count": 2,
      "outputs": [
        {
          "output_type": "stream",
          "name": "stdout",
          "text": [
            "Channels:\n",
            " - conda-forge\n",
            "Platform: linux-64\n",
            "Collecting package metadata (repodata.json): - \b\b\\ \b\b| \b\b/ \b\b- \b\b\\ \b\b| \b\b/ \b\b- \b\b\\ \b\b| \b\b/ \b\b- \b\b\\ \b\b| \b\b/ \b\b- \b\b\\ \b\b| \b\b/ \b\b- \b\b\\ \b\b| \b\b/ \b\b- \b\b\\ \b\b| \b\b/ \b\b- \b\b\\ \b\b| \b\b/ \b\b- \b\b\\ \b\b| \b\b/ \b\b- \b\b\\ \b\b| \b\b/ \b\b- \b\b\\ \b\b| \b\b/ \b\b- \b\b\\ \b\b| \b\b/ \b\b- \b\b\\ \b\b| \b\b/ \b\b- \b\b\\ \b\b| \b\b/ \b\b- \b\b\\ \b\b| \b\b/ \b\b- \b\b\\ \b\b| \b\b/ \b\b- \b\b\\ \b\b| \b\b/ \b\b- \b\b\\ \b\b| \b\b/ \b\b- \b\b\\ \b\b| \b\b/ \b\b- \b\b\\ \b\b| \b\b/ \b\b- \b\b\\ \b\b| \b\b/ \b\b- \b\b\\ \b\b| \b\b/ \b\b- \b\b\\ \b\b| \b\b/ \b\b- \b\b\\ \b\b| \b\b/ \b\b- \b\b\\ \b\b| \b\b/ \b\b- \b\b\\ \b\b| \b\b/ \b\b- \b\b\\ \b\b| \b\b/ \b\b- \b\b\\ \b\b| \b\b/ \b\b- \b\b\\ \b\b| \b\b/ \b\b- \b\b\\ \b\b| \b\b/ \b\b- \b\b\\ \b\b| \b\b/ \b\b- \b\b\\ \b\b| \b\b/ \b\b- \b\b\\ \b\b| \b\b/ \b\b- \b\b\\ \b\b| \b\b/ \b\b- \b\b\\ \b\b| \b\b/ \b\b- \b\b\\ \b\b| \b\b/ \b\b- \b\b\\ \b\b| \b\b/ \b\b- \b\b\\ \b\b| \b\b/ \b\b- \b\b\\ \b\b| \b\b/ \b\b- \b\b\\ \b\b| \b\b/ \b\b- \b\b\\ \b\b| \b\b/ \b\b- \b\b\\ \b\b| \b\b/ \b\b- \b\b\\ \b\b| \b\b/ \b\b- \b\b\\ \b\b| \b\b/ \b\b- \b\b\\ \b\b| \b\b/ \b\b- \b\b\\ \b\b| \b\b/ \b\b- \b\b\\ \b\b| \b\b/ \b\b- \b\b\\ \b\b| \b\b/ \b\b- \b\b\\ \b\b| \b\b/ \b\b- \b\b\\ \b\b| \b\b/ \b\b- \b\b\\ \b\b| \b\b/ \b\b- \b\b\\ \b\b| \b\b/ \b\b- \b\b\\ \b\b| \b\b/ \b\b- \b\b\\ \b\b| \b\b/ \b\b- \b\b\\ \b\b| \b\b/ \b\b- \b\b\\ \b\b| \b\b/ \b\b- \b\b\\ \b\b| \b\b/ \b\b- \b\b\\ \b\b| \b\b/ \b\b- \b\b\\ \b\b| \b\b/ \b\b- \b\b\\ \b\b| \b\b/ \b\b- \b\b\\ \b\b| \b\b/ \b\b- \b\b\\ \b\b| \b\b/ \b\b- \b\b\\ \b\b| \b\b/ \b\b- \b\b\\ \b\b| \b\b/ \b\b- \b\b\\ \b\b| \b\b/ \b\b- \b\b\\ \b\b| \b\b/ \b\b- \b\b\\ \b\b| \b\b/ \b\b- \b\b\\ \b\b| \b\b/ \b\b- \b\b\\ \b\b| \b\b/ \b\b- \b\b\\ \b\b| \b\b/ \b\b- \b\b\\ \b\b| \b\b/ \b\b- \b\b\\ \b\b| \b\b/ \b\b- \b\b\\ \b\b| \b\bdone\n",
            "Solving environment: - \b\b\\ \b\b| \b\bdone\n",
            "\n",
            "\n",
            "==> WARNING: A newer version of conda exists. <==\n",
            "    current version: 23.11.0\n",
            "    latest version: 24.11.0\n",
            "\n",
            "Please update conda by running\n",
            "\n",
            "    $ conda update -n base -c conda-forge conda\n",
            "\n",
            "\n",
            "\n",
            "## Package Plan ##\n",
            "\n",
            "  environment location: /usr/local\n",
            "\n",
            "  added / updated specs:\n",
            "    - dftd4\n",
            "\n",
            "\n",
            "The following packages will be downloaded:\n",
            "\n",
            "    package                    |            build\n",
            "    ---------------------------|-----------------\n",
            "    ca-certificates-2024.8.30  |       hbcca054_0         155 KB  conda-forge\n",
            "    certifi-2024.8.30          |     pyhd8ed1ab_0         160 KB  conda-forge\n",
            "    dftd4-3.7.0                |       hc15f34f_3         576 KB  conda-forge\n",
            "    libblas-3.9.0              |25_linux64_openblas          15 KB  conda-forge\n",
            "    libgcc-14.2.0              |       h77fa898_1         829 KB  conda-forge\n",
            "    libgcc-ng-14.2.0           |       h69a702a_1          53 KB  conda-forge\n",
            "    libgfortran-14.2.0         |       h69a702a_1          53 KB  conda-forge\n",
            "    libgfortran5-14.2.0        |       hd5240d6_1         1.4 MB  conda-forge\n",
            "    libgomp-14.2.0             |       h77fa898_1         450 KB  conda-forge\n",
            "    liblapack-3.9.0            |25_linux64_openblas          15 KB  conda-forge\n",
            "    libopenblas-0.3.28         |pthreads_h94d23a6_1         5.3 MB  conda-forge\n",
            "    mctc-lib-0.3.2             |       h3b12eaf_1         451 KB  conda-forge\n",
            "    multicharge-0.3.0          |       hc15f34f_1         234 KB  conda-forge\n",
            "    openssl-3.4.0              |       hb9d3cd8_0         2.8 MB  conda-forge\n",
            "    ------------------------------------------------------------\n",
            "                                           Total:        12.4 MB\n",
            "\n",
            "The following NEW packages will be INSTALLED:\n",
            "\n",
            "  dftd4              conda-forge/linux-64::dftd4-3.7.0-hc15f34f_3 \n",
            "  libblas            conda-forge/linux-64::libblas-3.9.0-25_linux64_openblas \n",
            "  libgcc             conda-forge/linux-64::libgcc-14.2.0-h77fa898_1 \n",
            "  libgfortran        conda-forge/linux-64::libgfortran-14.2.0-h69a702a_1 \n",
            "  libgfortran5       conda-forge/linux-64::libgfortran5-14.2.0-hd5240d6_1 \n",
            "  liblapack          conda-forge/linux-64::liblapack-3.9.0-25_linux64_openblas \n",
            "  libopenblas        conda-forge/linux-64::libopenblas-0.3.28-pthreads_h94d23a6_1 \n",
            "  mctc-lib           conda-forge/linux-64::mctc-lib-0.3.2-h3b12eaf_1 \n",
            "  multicharge        conda-forge/linux-64::multicharge-0.3.0-hc15f34f_1 \n",
            "\n",
            "The following packages will be UPDATED:\n",
            "\n",
            "  ca-certificates                     2023.11.17-hbcca054_0 --> 2024.8.30-hbcca054_0 \n",
            "  certifi                           2023.11.17-pyhd8ed1ab_0 --> 2024.8.30-pyhd8ed1ab_0 \n",
            "  libgcc-ng                               13.2.0-h807b86a_3 --> 14.2.0-h69a702a_1 \n",
            "  libgomp                                 13.2.0-h807b86a_3 --> 14.2.0-h77fa898_1 \n",
            "  openssl                                  3.2.0-hd590300_1 --> 3.4.0-hb9d3cd8_0 \n",
            "\n",
            "\n",
            "\n",
            "Downloading and Extracting Packages:\n",
            "libopenblas-0.3.28   | 5.3 MB    | :   0% 0/1 [00:00<?, ?it/s]\n",
            "openssl-3.4.0        | 2.8 MB    | :   0% 0/1 [00:00<?, ?it/s]\u001b[A\n",
            "\n",
            "libgfortran5-14.2.0  | 1.4 MB    | :   0% 0/1 [00:00<?, ?it/s]\u001b[A\u001b[A\n",
            "\n",
            "\n",
            "libgcc-14.2.0        | 829 KB    | :   0% 0/1 [00:00<?, ?it/s]\u001b[A\u001b[A\u001b[A\n",
            "\n",
            "\n",
            "\n",
            "dftd4-3.7.0          | 576 KB    | :   0% 0/1 [00:00<?, ?it/s]\u001b[A\u001b[A\u001b[A\u001b[A\n",
            "\n",
            "\n",
            "\n",
            "\n",
            "mctc-lib-0.3.2       | 451 KB    | :   0% 0/1 [00:00<?, ?it/s]\u001b[A\u001b[A\u001b[A\u001b[A\u001b[A\n",
            "\n",
            "\n",
            "\n",
            "\n",
            "\n",
            "libgomp-14.2.0       | 450 KB    | :   0% 0/1 [00:00<?, ?it/s]\u001b[A\u001b[A\u001b[A\u001b[A\u001b[A\u001b[A\n",
            "\n",
            "\n",
            "\n",
            "\n",
            "\n",
            "\n",
            "multicharge-0.3.0    | 234 KB    | :   0% 0/1 [00:00<?, ?it/s]\u001b[A\u001b[A\u001b[A\u001b[A\u001b[A\u001b[A\u001b[A\n",
            "\n",
            "\n",
            "\n",
            "\n",
            "\n",
            "\n",
            "\n",
            "certifi-2024.8.30    | 160 KB    | :   0% 0/1 [00:00<?, ?it/s]\u001b[A\u001b[A\u001b[A\u001b[A\u001b[A\u001b[A\u001b[A\u001b[A\n",
            "\n",
            "\n",
            "\n",
            "\n",
            "\n",
            "\n",
            "\n",
            "\n",
            "ca-certificates-2024 | 155 KB    | :   0% 0/1 [00:00<?, ?it/s]\u001b[A\u001b[A\u001b[A\u001b[A\u001b[A\u001b[A\u001b[A\u001b[A\u001b[A\n",
            "\n",
            "\n",
            "\n",
            "\n",
            "\n",
            "\n",
            "\n",
            "\n",
            "\n",
            "libgcc-ng-14.2.0     | 53 KB     | :   0% 0/1 [00:00<?, ?it/s]\u001b[A\u001b[A\u001b[A\u001b[A\u001b[A\u001b[A\u001b[A\u001b[A\u001b[A\u001b[A\n",
            "\n",
            "\n",
            "\n",
            "\n",
            "\n",
            "\n",
            "\n",
            "\n",
            "\n",
            "\n",
            "libgfortran-14.2.0   | 53 KB     | :   0% 0/1 [00:00<?, ?it/s]\u001b[A\u001b[A\u001b[A\u001b[A\u001b[A\u001b[A\u001b[A\u001b[A\u001b[A\u001b[A\u001b[A\n",
            "\n",
            "\n",
            "\n",
            "\n",
            "\n",
            "\n",
            "\n",
            "\n",
            "\n",
            "\n",
            "\n",
            "libblas-3.9.0        | 15 KB     | :   0% 0/1 [00:00<?, ?it/s]\u001b[A\u001b[A\u001b[A\u001b[A\u001b[A\u001b[A\u001b[A\u001b[A\u001b[A\u001b[A\u001b[A\u001b[A\n",
            "\n",
            "\n",
            "\n",
            "\n",
            "\n",
            "\n",
            "\n",
            "\n",
            "\n",
            "\n",
            "\n",
            "\n",
            "liblapack-3.9.0      | 15 KB     | :   0% 0/1 [00:00<?, ?it/s]\u001b[A\u001b[A\u001b[A\u001b[A\u001b[A\u001b[A\u001b[A\u001b[A\u001b[A\u001b[A\u001b[A\u001b[A\u001b[A\n",
            "openssl-3.4.0        | 2.8 MB    | :   2% 0.022234692444289432/1 [00:00<00:04,  4.64s/it]\u001b[A\n",
            "\n",
            "\n",
            "libgcc-14.2.0        | 829 KB    | :   2% 0.019303795604097816/1 [00:00<00:05,  6.09s/it]\u001b[A\u001b[A\u001b[A\n",
            "\n",
            "\n",
            "\n",
            "libopenblas-0.3.28   | 5.3 MB    | :   0% 0.0029369833860743893/1 [00:00<00:44, 44.22s/it]\n",
            "\n",
            "libgfortran5-14.2.0  | 1.4 MB    | :   1% 0.011201624454327605/1 [00:00<00:13, 13.17s/it]\u001b[A\u001b[A\n",
            "\n",
            "\n",
            "\n",
            "\n",
            "mctc-lib-0.3.2       | 451 KB    | :   4% 0.03543980705378484/1 [00:00<00:05,  5.40s/it]\u001b[A\u001b[A\u001b[A\u001b[A\u001b[A\n",
            "\n",
            "\n",
            "\n",
            "\n",
            "\n",
            "libopenblas-0.3.28   | 5.3 MB    | :  26% 0.26139152136062066/1 [00:00<00:00,  1.36it/s]  \n",
            "\n",
            "\n",
            "\n",
            "\n",
            "\n",
            "\n",
            "multicharge-0.3.0    | 234 KB    | :   7% 0.06835410295669878/1 [00:00<00:03,  3.24s/it]\u001b[A\u001b[A\u001b[A\u001b[A\u001b[A\u001b[A\u001b[A\n",
            "\n",
            "\n",
            "\n",
            "\n",
            "\n",
            "\n",
            "\n",
            "certifi-2024.8.30    | 160 KB    | :  10% 0.10005373980165128/1 [00:00<00:02,  2.58s/it]\u001b[A\u001b[A\u001b[A\u001b[A\u001b[A\u001b[A\u001b[A\u001b[A\n",
            "\n",
            "\n",
            "\n",
            "\n",
            "\n",
            "\n",
            "\n",
            "\n",
            "ca-certificates-2024 | 155 KB    | :  10% 0.10304208096702577/1 [00:00<00:02,  2.52s/it]\u001b[A\u001b[A\u001b[A\u001b[A\u001b[A\u001b[A\u001b[A\u001b[A\u001b[A\n",
            "\n",
            "\n",
            "\n",
            "\n",
            "\n",
            "\n",
            "\n",
            "\n",
            "\n",
            "libgcc-ng-14.2.0     | 53 KB     | :  30% 0.3026116508440767/1 [00:00<00:00,  1.12it/s]\u001b[A\u001b[A\u001b[A\u001b[A\u001b[A\u001b[A\u001b[A\u001b[A\u001b[A\u001b[A\n",
            "\n",
            "\n",
            "\n",
            "\n",
            "\n",
            "\n",
            "\n",
            "\n",
            "\n",
            "\n",
            "libgfortran-14.2.0   | 53 KB     | :  30% 0.30342426431098024/1 [00:00<00:00,  1.11it/s]\u001b[A\u001b[A\u001b[A\u001b[A\u001b[A\u001b[A\u001b[A\u001b[A\u001b[A\u001b[A\u001b[A\n",
            "\n",
            "\n",
            "\n",
            "\n",
            "\n",
            "\n",
            "\n",
            "\n",
            "\n",
            "\n",
            "\n",
            "libblas-3.9.0        | 15 KB     | : 100% 1.0/1 [00:00<00:00,  3.22it/s]\u001b[A\u001b[A\u001b[A\u001b[A\u001b[A\u001b[A\u001b[A\u001b[A\u001b[A\u001b[A\u001b[A\u001b[A\n",
            "\n",
            "\n",
            "\n",
            "\n",
            "\n",
            "\n",
            "\n",
            "\n",
            "\n",
            "\n",
            "\n",
            "\n",
            "libopenblas-0.3.28   | 5.3 MB    | :  71% 0.7136869628160766/1 [00:00<00:00,  2.57it/s] \n",
            "\n",
            "\n",
            "\n",
            "dftd4-3.7.0          | 576 KB    | : 100% 1.0/1 [00:00<00:00,  3.01it/s]                 \u001b[A\u001b[A\u001b[A\u001b[A\n",
            "\n",
            "\n",
            "\n",
            "dftd4-3.7.0          | 576 KB    | : 100% 1.0/1 [00:00<00:00,  3.01it/s]\u001b[A\u001b[A\u001b[A\u001b[A\n",
            "\n",
            "\n",
            "libgcc-14.2.0        | 829 KB    | : 100% 1.0/1 [00:00<00:00,  2.38it/s]                 \u001b[A\u001b[A\u001b[A\n",
            "\n",
            "\n",
            "libgcc-14.2.0        | 829 KB    | : 100% 1.0/1 [00:00<00:00,  2.38it/s]\u001b[A\u001b[A\u001b[A\n",
            "\n",
            "\n",
            "\n",
            "\n",
            "mctc-lib-0.3.2       | 451 KB    | : 100% 1.0/1 [00:00<00:00,  2.14it/s]                \u001b[A\u001b[A\u001b[A\u001b[A\u001b[A\n",
            "\n",
            "\n",
            "\n",
            "\n",
            "mctc-lib-0.3.2       | 451 KB    | : 100% 1.0/1 [00:00<00:00,  2.14it/s]\u001b[A\u001b[A\u001b[A\u001b[A\u001b[A\n",
            "\n",
            "\n",
            "\n",
            "\n",
            "\n",
            "libgomp-14.2.0       | 450 KB    | : 100% 1.0/1 [00:00<00:00,  1.08it/s]               \u001b[A\u001b[A\u001b[A\u001b[A\u001b[A\u001b[A\n",
            "\n",
            "\n",
            "\n",
            "\n",
            "\n",
            "libgomp-14.2.0       | 450 KB    | : 100% 1.0/1 [00:00<00:00,  1.08it/s]\u001b[A\u001b[A\u001b[A\u001b[A\u001b[A\u001b[A\n",
            "openssl-3.4.0        | 2.8 MB    | : 100% 1.0/1 [00:00<00:00,  1.03it/s]                 \u001b[A\n",
            "openssl-3.4.0        | 2.8 MB    | : 100% 1.0/1 [00:00<00:00,  1.03it/s]\u001b[A\n",
            "\n",
            "\n",
            "\n",
            "\n",
            "\n",
            "\n",
            "multicharge-0.3.0    | 234 KB    | : 100% 1.0/1 [00:01<00:00,  1.01it/s]                \u001b[A\u001b[A\u001b[A\u001b[A\u001b[A\u001b[A\u001b[A\n",
            "\n",
            "\n",
            "\n",
            "\n",
            "\n",
            "\n",
            "multicharge-0.3.0    | 234 KB    | : 100% 1.0/1 [00:01<00:00,  1.01it/s]\u001b[A\u001b[A\u001b[A\u001b[A\u001b[A\u001b[A\u001b[A\n",
            "\n",
            "\n",
            "\n",
            "\n",
            "\n",
            "\n",
            "\n",
            "\n",
            "ca-certificates-2024 | 155 KB    | : 100% 1.0/1 [00:01<00:00,  1.01s/it]                \u001b[A\u001b[A\u001b[A\u001b[A\u001b[A\u001b[A\u001b[A\u001b[A\u001b[A\n",
            "\n",
            "\n",
            "\n",
            "\n",
            "\n",
            "\n",
            "\n",
            "\n",
            "ca-certificates-2024 | 155 KB    | : 100% 1.0/1 [00:01<00:00,  1.01s/it]\u001b[A\u001b[A\u001b[A\u001b[A\u001b[A\u001b[A\u001b[A\u001b[A\u001b[A\n",
            "\n",
            "\n",
            "\n",
            "\n",
            "\n",
            "\n",
            "\n",
            "certifi-2024.8.30    | 160 KB    | : 100% 1.0/1 [00:01<00:00,  1.05s/it]                \u001b[A\u001b[A\u001b[A\u001b[A\u001b[A\u001b[A\u001b[A\u001b[A\n",
            "\n",
            "\n",
            "\n",
            "\n",
            "\n",
            "\n",
            "\n",
            "certifi-2024.8.30    | 160 KB    | : 100% 1.0/1 [00:01<00:00,  1.05s/it]\u001b[A\u001b[A\u001b[A\u001b[A\u001b[A\u001b[A\u001b[A\u001b[A\n",
            "\n",
            "libgfortran5-14.2.0  | 1.4 MB    | : 100% 1.0/1 [00:01<00:00,  1.14s/it]                 \u001b[A\u001b[A\n",
            "\n",
            "libgfortran5-14.2.0  | 1.4 MB    | : 100% 1.0/1 [00:01<00:00,  1.14s/it]\u001b[A\u001b[A\n",
            "\n",
            "\n",
            "\n",
            "\n",
            "\n",
            "\n",
            "\n",
            "\n",
            "\n",
            "\n",
            "libgfortran-14.2.0   | 53 KB     | : 100% 1.0/1 [00:01<00:00,  1.22s/it]                \u001b[A\u001b[A\u001b[A\u001b[A\u001b[A\u001b[A\u001b[A\u001b[A\u001b[A\u001b[A\u001b[A\n",
            "\n",
            "\n",
            "\n",
            "\n",
            "\n",
            "\n",
            "\n",
            "\n",
            "\n",
            "\n",
            "libgfortran-14.2.0   | 53 KB     | : 100% 1.0/1 [00:01<00:00,  1.22s/it]\u001b[A\u001b[A\u001b[A\u001b[A\u001b[A\u001b[A\u001b[A\u001b[A\u001b[A\u001b[A\u001b[A\n",
            "\n",
            "\n",
            "\n",
            "\n",
            "\n",
            "\n",
            "\n",
            "\n",
            "\n",
            "\n",
            "\n",
            "libblas-3.9.0        | 15 KB     | : 100% 1.0/1 [00:01<00:00,  3.22it/s]\u001b[A\u001b[A\u001b[A\u001b[A\u001b[A\u001b[A\u001b[A\u001b[A\u001b[A\u001b[A\u001b[A\u001b[A\n",
            "\n",
            "\n",
            "\n",
            "\n",
            "\n",
            "\n",
            "\n",
            "\n",
            "\n",
            "libgcc-ng-14.2.0     | 53 KB     | : 100% 1.0/1 [00:01<00:00,  1.30s/it]               \u001b[A\u001b[A\u001b[A\u001b[A\u001b[A\u001b[A\u001b[A\u001b[A\u001b[A\u001b[A\n",
            "\n",
            "\n",
            "\n",
            "\n",
            "\n",
            "\n",
            "\n",
            "\n",
            "\n",
            "libgcc-ng-14.2.0     | 53 KB     | : 100% 1.0/1 [00:01<00:00,  1.30s/it]\u001b[A\u001b[A\u001b[A\u001b[A\u001b[A\u001b[A\u001b[A\u001b[A\u001b[A\u001b[A\n",
            "\n",
            "\n",
            "\n",
            "\n",
            "\n",
            "\n",
            "\n",
            "\n",
            "\n",
            "\n",
            "\n",
            "\n",
            "                                                                        \n",
            "                                                                        \u001b[A\n",
            "\n",
            "                                                                        \u001b[A\u001b[A\n",
            "\n",
            "\n",
            "                                                                        \u001b[A\u001b[A\u001b[A\n",
            "\n",
            "\n",
            "\n",
            "                                                                        \u001b[A\u001b[A\u001b[A\u001b[A\n",
            "\n",
            "\n",
            "\n",
            "\n",
            "                                                                        \u001b[A\u001b[A\u001b[A\u001b[A\u001b[A\n",
            "\n",
            "\n",
            "\n",
            "\n",
            "\n",
            "                                                                        \u001b[A\u001b[A\u001b[A\u001b[A\u001b[A\u001b[A\n",
            "\n",
            "\n",
            "\n",
            "\n",
            "\n",
            "\n",
            "                                                                        \u001b[A\u001b[A\u001b[A\u001b[A\u001b[A\u001b[A\u001b[A\n",
            "\n",
            "\n",
            "\n",
            "\n",
            "\n",
            "\n",
            "\n",
            "                                                                        \u001b[A\u001b[A\u001b[A\u001b[A\u001b[A\u001b[A\u001b[A\u001b[A\n",
            "\n",
            "\n",
            "\n",
            "\n",
            "\n",
            "\n",
            "\n",
            "\n",
            "                                                                        \u001b[A\u001b[A\u001b[A\u001b[A\u001b[A\u001b[A\u001b[A\u001b[A\u001b[A\n",
            "\n",
            "\n",
            "\n",
            "\n",
            "\n",
            "\n",
            "\n",
            "\n",
            "\n",
            "                                                                        \u001b[A\u001b[A\u001b[A\u001b[A\u001b[A\u001b[A\u001b[A\u001b[A\u001b[A\u001b[A\n",
            "\n",
            "\n",
            "\n",
            "\n",
            "\n",
            "\n",
            "\n",
            "\n",
            "\n",
            "\n",
            "                                                                        \u001b[A\u001b[A\u001b[A\u001b[A\u001b[A\u001b[A\u001b[A\u001b[A\u001b[A\u001b[A\u001b[A\n",
            "\n",
            "\n",
            "\n",
            "\n",
            "\n",
            "\n",
            "\n",
            "\n",
            "\n",
            "\n",
            "\n",
            "                                                                        \u001b[A\u001b[A\u001b[A\u001b[A\u001b[A\u001b[A\u001b[A\u001b[A\u001b[A\u001b[A\u001b[A\u001b[A\n",
            "\n",
            "\n",
            "\n",
            "\n",
            "\n",
            "\n",
            "\n",
            "\n",
            "\n",
            "\n",
            "\n",
            "\n",
            "                                                                        \u001b[A\u001b[A\u001b[A\u001b[A\u001b[A\u001b[A\u001b[A\u001b[A\u001b[A\u001b[A\u001b[A\u001b[A\u001b[A\n",
            "Preparing transaction: - \b\bdone\n",
            "Verifying transaction: | \b\b/ \b\bdone\n",
            "Executing transaction: \\ \b\b| \b\b/ \b\b- \b\b\\ \b\b| \b\b/ \b\b- \b\b\\ \b\bdone\n"
          ]
        }
      ]
    },
    {
      "cell_type": "code",
      "source": [
        "!whereis dftd4"
      ],
      "metadata": {
        "id": "f_eelAp_PE60",
        "outputId": "e5920bcb-1d50-4e02-903c-2873eb0dd26b",
        "colab": {
          "base_uri": "https://localhost:8080/"
        }
      },
      "execution_count": 4,
      "outputs": [
        {
          "output_type": "stream",
          "name": "stdout",
          "text": [
            "dftd4: /usr/local/bin/dftd4\n"
          ]
        }
      ]
    },
    {
      "cell_type": "code",
      "source": [
        "import os\n",
        "os.environ['dftd4bin'] = '/usr/local/bin/dftd4'"
      ],
      "metadata": {
        "id": "XrbkAC_4O3o8"
      },
      "execution_count": 5,
      "outputs": []
    },
    {
      "cell_type": "code",
      "source": [
        "!echo $dftd4bin"
      ],
      "metadata": {
        "id": "XUtFPPZDPMno",
        "outputId": "36f3b209-3d04-497b-dbde-5238f39bb95c",
        "colab": {
          "base_uri": "https://localhost:8080/"
        }
      },
      "execution_count": 6,
      "outputs": [
        {
          "output_type": "stream",
          "name": "stdout",
          "text": [
            "/usr/local/bin/dftd4\n"
          ]
        }
      ]
    },
    {
      "cell_type": "code",
      "source": [
        "from mlatom2ase import MLatomCalculator"
      ],
      "metadata": {
        "id": "yWHO7vTEhxS9"
      },
      "execution_count": 7,
      "outputs": []
    },
    {
      "cell_type": "code",
      "source": [
        "MLatomCalculator"
      ],
      "metadata": {
        "colab": {
          "base_uri": "https://localhost:8080/",
          "height": 156
        },
        "id": "uXxd3nCihZfs",
        "outputId": "60152ac5-7fc4-427d-c687-d9776a43d644"
      },
      "execution_count": 8,
      "outputs": [
        {
          "output_type": "execute_result",
          "data": {
            "text/plain": [
              "mlatom2ase.ase_interface.MLatomCalculator"
            ],
            "text/html": [
              "<div style=\"max-width:800px; border: 1px solid var(--colab-border-color);\"><style>\n",
              "      pre.function-repr-contents {\n",
              "        overflow-x: auto;\n",
              "        padding: 8px 12px;\n",
              "        max-height: 500px;\n",
              "      }\n",
              "\n",
              "      pre.function-repr-contents.function-repr-contents-collapsed {\n",
              "        cursor: pointer;\n",
              "        max-height: 100px;\n",
              "      }\n",
              "    </style>\n",
              "    <pre style=\"white-space: initial; background:\n",
              "         var(--colab-secondary-surface-color); padding: 8px 12px;\n",
              "         border-bottom: 1px solid var(--colab-border-color);\"><b>mlatom2ase.ase_interface.MLatomCalculator</b><br/>def __init__(charge=0, multiplicity=1, method=&#x27;AIQM2&#x27;)</pre><pre class=\"function-repr-contents function-repr-contents-collapsed\" style=\"\"><a class=\"filepath\" style=\"display:none\" href=\"#\">/usr/local/lib/python3.10/dist-packages/mlatom2ase/ase_interface.py</a>ASE Calculator for AIQM &amp; AIQM2 model using MLAtom\n",
              "\n",
              "Implements energy and force calculations with proper system change handling</pre>\n",
              "      <script>\n",
              "      if (google.colab.kernel.accessAllowed && google.colab.files && google.colab.files.view) {\n",
              "        for (const element of document.querySelectorAll('.filepath')) {\n",
              "          element.style.display = 'block'\n",
              "          element.onclick = (event) => {\n",
              "            event.preventDefault();\n",
              "            event.stopPropagation();\n",
              "            google.colab.files.view(element.textContent, 7);\n",
              "          };\n",
              "        }\n",
              "      }\n",
              "      for (const element of document.querySelectorAll('.function-repr-contents')) {\n",
              "        element.onclick = (event) => {\n",
              "          event.preventDefault();\n",
              "          event.stopPropagation();\n",
              "          element.classList.toggle('function-repr-contents-collapsed');\n",
              "        };\n",
              "      }\n",
              "      </script>\n",
              "      </div>"
            ]
          },
          "metadata": {},
          "execution_count": 8
        }
      ]
    },
    {
      "cell_type": "code",
      "source": [
        "from ase.build import molecule\n",
        "\n",
        "atoms = molecule('H2O')\n",
        "\n",
        "calc = MLatomCalculator(charge=0, multiplicity=1, method='AIQM2')\n",
        "atoms.calc = calc\n",
        "energy = atoms.get_potential_energy()\n",
        "\n",
        "print(f\"AIQM2 Energy : {energy} eV\")"
      ],
      "metadata": {
        "colab": {
          "base_uri": "https://localhost:8080/"
        },
        "id": "ZFdmDwVoirU0",
        "outputId": "ee23a6e6-cc7a-4f24-f311-975b6b2b526f"
      },
      "execution_count": 17,
      "outputs": [
        {
          "output_type": "stream",
          "name": "stdout",
          "text": [
            "AIQM2 Energy : -2078.5030187064012\n"
          ]
        }
      ]
    },
    {
      "cell_type": "code",
      "source": [],
      "metadata": {
        "id": "MVltXoHeirXB"
      },
      "execution_count": null,
      "outputs": []
    },
    {
      "cell_type": "markdown",
      "source": [
        "Available models"
      ],
      "metadata": {
        "id": "panYopAJir04"
      }
    },
    {
      "cell_type": "code",
      "source": [
        "aiqm2 = ['AIQM2', 'AIQM2@DFT']\n",
        "torchani =  [\"ANI-1x\", \"ANI-1ccx\", \"ANI-2x\", 'ANI-1x-D4', 'ANI-2x-D4', 'ANI-1xnr', 'ANI-1ccx-gelu', 'ANI-1ccx-gelu-D4', 'ANI-1x-gelu', 'ANI-1x-gelu-d4']\n"
      ],
      "metadata": {
        "id": "oW-wY1udha9m"
      },
      "execution_count": 18,
      "outputs": []
    },
    {
      "cell_type": "code",
      "source": [
        "interfaces = [aiqm2, torchani]"
      ],
      "metadata": {
        "id": "kwu-kPcZhlH2"
      },
      "execution_count": 19,
      "outputs": []
    },
    {
      "cell_type": "code",
      "source": [
        "from ase.build import molecule\n",
        "\n",
        "atoms = molecule('H2O')\n",
        "result_container = dict()\n",
        "\n",
        "for interface in interfaces:\n",
        "    for method in interface:\n",
        "        calc = MLatomCalculator(charge=0, multiplicity=1, method=method)\n",
        "        atoms.calc = calc\n",
        "        energy = atoms.get_potential_energy()\n",
        "        result_container[method] = energy"
      ],
      "metadata": {
        "id": "Da5hLIC6WsAV",
        "colab": {
          "base_uri": "https://localhost:8080/"
        },
        "outputId": "f9d6509a-3b17-46d4-eb95-b6bb2573a6ab"
      },
      "execution_count": 20,
      "outputs": [
        {
          "output_type": "stream",
          "name": "stdout",
          "text": [
            "/usr/local/lib/python3.10/dist-packages/torchani/resources/\n",
            "/usr/local/lib/python3.10/dist-packages/torchani/resources/\n",
            "/usr/local/lib/python3.10/dist-packages/torchani/resources/\n",
            "/usr/local/lib/python3.10/dist-packages/torchani/resources/\n",
            "/usr/local/lib/python3.10/dist-packages/torchani/resources/\n",
            "/usr/local/lib/python3.10/dist-packages/torchani/resources/\n",
            "/usr/local/lib/python3.10/dist-packages/torchani/resources/\n",
            "/usr/local/lib/python3.10/dist-packages/torchani/resources/\n",
            "/usr/local/lib/python3.10/dist-packages/torchani/resources/\n",
            "/usr/local/lib/python3.10/dist-packages/torchani/resources/\n",
            "/usr/local/lib/python3.10/dist-packages/torchani/resources/\n",
            "/usr/local/lib/python3.10/dist-packages/torchani/resources/\n"
          ]
        },
        {
          "output_type": "stream",
          "name": "stderr",
          "text": [
            "/usr/local/lib/python3.10/dist-packages/torchani/utils.py:158: UserWarning: To copy construct from a tensor, it is recommended to use sourceTensor.clone().detach() or sourceTensor.clone().detach().requires_grad_(True), rather than torch.tensor(sourceTensor).\n",
            "  self_energies = torch.tensor(self_energies, dtype=torch.double)\n",
            "/usr/local/lib/python3.10/dist-packages/torchani/utils.py:158: UserWarning: To copy construct from a tensor, it is recommended to use sourceTensor.clone().detach() or sourceTensor.clone().detach().requires_grad_(True), rather than torch.tensor(sourceTensor).\n",
            "  self_energies = torch.tensor(self_energies, dtype=torch.double)\n",
            "/usr/local/lib/python3.10/dist-packages/torchani/utils.py:158: UserWarning: To copy construct from a tensor, it is recommended to use sourceTensor.clone().detach() or sourceTensor.clone().detach().requires_grad_(True), rather than torch.tensor(sourceTensor).\n",
            "  self_energies = torch.tensor(self_energies, dtype=torch.double)\n",
            "/usr/local/lib/python3.10/dist-packages/torchani/utils.py:158: UserWarning: To copy construct from a tensor, it is recommended to use sourceTensor.clone().detach() or sourceTensor.clone().detach().requires_grad_(True), rather than torch.tensor(sourceTensor).\n",
            "  self_energies = torch.tensor(self_energies, dtype=torch.double)\n",
            "/usr/local/lib/python3.10/dist-packages/torchani/utils.py:158: UserWarning: To copy construct from a tensor, it is recommended to use sourceTensor.clone().detach() or sourceTensor.clone().detach().requires_grad_(True), rather than torch.tensor(sourceTensor).\n",
            "  self_energies = torch.tensor(self_energies, dtype=torch.double)\n",
            "/usr/local/lib/python3.10/dist-packages/torchani/utils.py:158: UserWarning: To copy construct from a tensor, it is recommended to use sourceTensor.clone().detach() or sourceTensor.clone().detach().requires_grad_(True), rather than torch.tensor(sourceTensor).\n",
            "  self_energies = torch.tensor(self_energies, dtype=torch.double)\n",
            "/usr/local/lib/python3.10/dist-packages/torchani/utils.py:158: UserWarning: To copy construct from a tensor, it is recommended to use sourceTensor.clone().detach() or sourceTensor.clone().detach().requires_grad_(True), rather than torch.tensor(sourceTensor).\n",
            "  self_energies = torch.tensor(self_energies, dtype=torch.double)\n",
            "/usr/local/lib/python3.10/dist-packages/torchani/utils.py:158: UserWarning: To copy construct from a tensor, it is recommended to use sourceTensor.clone().detach() or sourceTensor.clone().detach().requires_grad_(True), rather than torch.tensor(sourceTensor).\n",
            "  self_energies = torch.tensor(self_energies, dtype=torch.double)\n"
          ]
        },
        {
          "output_type": "stream",
          "name": "stdout",
          "text": [
            "/usr/local/lib/python3.10/dist-packages/torchani/resources/\n"
          ]
        },
        {
          "output_type": "stream",
          "name": "stderr",
          "text": [
            "/usr/local/lib/python3.10/dist-packages/torchani/utils.py:158: UserWarning: To copy construct from a tensor, it is recommended to use sourceTensor.clone().detach() or sourceTensor.clone().detach().requires_grad_(True), rather than torch.tensor(sourceTensor).\n",
            "  self_energies = torch.tensor(self_energies, dtype=torch.double)\n",
            "/usr/local/lib/python3.10/dist-packages/torchani/utils.py:158: UserWarning: To copy construct from a tensor, it is recommended to use sourceTensor.clone().detach() or sourceTensor.clone().detach().requires_grad_(True), rather than torch.tensor(sourceTensor).\n",
            "  self_energies = torch.tensor(self_energies, dtype=torch.double)\n",
            "/usr/local/lib/python3.10/dist-packages/torchani/utils.py:158: UserWarning: To copy construct from a tensor, it is recommended to use sourceTensor.clone().detach() or sourceTensor.clone().detach().requires_grad_(True), rather than torch.tensor(sourceTensor).\n",
            "  self_energies = torch.tensor(self_energies, dtype=torch.double)\n",
            "/usr/local/lib/python3.10/dist-packages/torchani/utils.py:158: UserWarning: To copy construct from a tensor, it is recommended to use sourceTensor.clone().detach() or sourceTensor.clone().detach().requires_grad_(True), rather than torch.tensor(sourceTensor).\n",
            "  self_energies = torch.tensor(self_energies, dtype=torch.double)\n",
            "/usr/local/lib/python3.10/dist-packages/torchani/utils.py:158: UserWarning: To copy construct from a tensor, it is recommended to use sourceTensor.clone().detach() or sourceTensor.clone().detach().requires_grad_(True), rather than torch.tensor(sourceTensor).\n",
            "  self_energies = torch.tensor(self_energies, dtype=torch.double)\n",
            "/usr/local/lib/python3.10/dist-packages/torchani/utils.py:158: UserWarning: To copy construct from a tensor, it is recommended to use sourceTensor.clone().detach() or sourceTensor.clone().detach().requires_grad_(True), rather than torch.tensor(sourceTensor).\n",
            "  self_energies = torch.tensor(self_energies, dtype=torch.double)\n",
            "/usr/local/lib/python3.10/dist-packages/torchani/utils.py:158: UserWarning: To copy construct from a tensor, it is recommended to use sourceTensor.clone().detach() or sourceTensor.clone().detach().requires_grad_(True), rather than torch.tensor(sourceTensor).\n",
            "  self_energies = torch.tensor(self_energies, dtype=torch.double)\n",
            "/usr/local/lib/python3.10/dist-packages/torchani/utils.py:158: UserWarning: To copy construct from a tensor, it is recommended to use sourceTensor.clone().detach() or sourceTensor.clone().detach().requires_grad_(True), rather than torch.tensor(sourceTensor).\n",
            "  self_energies = torch.tensor(self_energies, dtype=torch.double)\n"
          ]
        },
        {
          "output_type": "stream",
          "name": "stdout",
          "text": [
            "/usr/local/lib/python3.10/dist-packages/torchani/resources/\n"
          ]
        },
        {
          "output_type": "stream",
          "name": "stderr",
          "text": [
            "/usr/local/lib/python3.10/dist-packages/torchani/utils.py:158: UserWarning: To copy construct from a tensor, it is recommended to use sourceTensor.clone().detach() or sourceTensor.clone().detach().requires_grad_(True), rather than torch.tensor(sourceTensor).\n",
            "  self_energies = torch.tensor(self_energies, dtype=torch.double)\n",
            "/usr/local/lib/python3.10/dist-packages/torchani/utils.py:158: UserWarning: To copy construct from a tensor, it is recommended to use sourceTensor.clone().detach() or sourceTensor.clone().detach().requires_grad_(True), rather than torch.tensor(sourceTensor).\n",
            "  self_energies = torch.tensor(self_energies, dtype=torch.double)\n",
            "/usr/local/lib/python3.10/dist-packages/torchani/utils.py:158: UserWarning: To copy construct from a tensor, it is recommended to use sourceTensor.clone().detach() or sourceTensor.clone().detach().requires_grad_(True), rather than torch.tensor(sourceTensor).\n",
            "  self_energies = torch.tensor(self_energies, dtype=torch.double)\n",
            "/usr/local/lib/python3.10/dist-packages/torchani/utils.py:158: UserWarning: To copy construct from a tensor, it is recommended to use sourceTensor.clone().detach() or sourceTensor.clone().detach().requires_grad_(True), rather than torch.tensor(sourceTensor).\n",
            "  self_energies = torch.tensor(self_energies, dtype=torch.double)\n",
            "/usr/local/lib/python3.10/dist-packages/torchani/utils.py:158: UserWarning: To copy construct from a tensor, it is recommended to use sourceTensor.clone().detach() or sourceTensor.clone().detach().requires_grad_(True), rather than torch.tensor(sourceTensor).\n",
            "  self_energies = torch.tensor(self_energies, dtype=torch.double)\n",
            "/usr/local/lib/python3.10/dist-packages/torchani/utils.py:158: UserWarning: To copy construct from a tensor, it is recommended to use sourceTensor.clone().detach() or sourceTensor.clone().detach().requires_grad_(True), rather than torch.tensor(sourceTensor).\n",
            "  self_energies = torch.tensor(self_energies, dtype=torch.double)\n",
            "/usr/local/lib/python3.10/dist-packages/torchani/utils.py:158: UserWarning: To copy construct from a tensor, it is recommended to use sourceTensor.clone().detach() or sourceTensor.clone().detach().requires_grad_(True), rather than torch.tensor(sourceTensor).\n",
            "  self_energies = torch.tensor(self_energies, dtype=torch.double)\n",
            "/usr/local/lib/python3.10/dist-packages/torchani/utils.py:158: UserWarning: To copy construct from a tensor, it is recommended to use sourceTensor.clone().detach() or sourceTensor.clone().detach().requires_grad_(True), rather than torch.tensor(sourceTensor).\n",
            "  self_energies = torch.tensor(self_energies, dtype=torch.double)\n"
          ]
        },
        {
          "output_type": "stream",
          "name": "stdout",
          "text": [
            "/usr/local/lib/python3.10/dist-packages/torchani/resources/\n"
          ]
        },
        {
          "output_type": "stream",
          "name": "stderr",
          "text": [
            "/usr/local/lib/python3.10/dist-packages/torchani/utils.py:158: UserWarning: To copy construct from a tensor, it is recommended to use sourceTensor.clone().detach() or sourceTensor.clone().detach().requires_grad_(True), rather than torch.tensor(sourceTensor).\n",
            "  self_energies = torch.tensor(self_energies, dtype=torch.double)\n",
            "/usr/local/lib/python3.10/dist-packages/torchani/utils.py:158: UserWarning: To copy construct from a tensor, it is recommended to use sourceTensor.clone().detach() or sourceTensor.clone().detach().requires_grad_(True), rather than torch.tensor(sourceTensor).\n",
            "  self_energies = torch.tensor(self_energies, dtype=torch.double)\n",
            "/usr/local/lib/python3.10/dist-packages/torchani/utils.py:158: UserWarning: To copy construct from a tensor, it is recommended to use sourceTensor.clone().detach() or sourceTensor.clone().detach().requires_grad_(True), rather than torch.tensor(sourceTensor).\n",
            "  self_energies = torch.tensor(self_energies, dtype=torch.double)\n",
            "/usr/local/lib/python3.10/dist-packages/torchani/utils.py:158: UserWarning: To copy construct from a tensor, it is recommended to use sourceTensor.clone().detach() or sourceTensor.clone().detach().requires_grad_(True), rather than torch.tensor(sourceTensor).\n",
            "  self_energies = torch.tensor(self_energies, dtype=torch.double)\n",
            "/usr/local/lib/python3.10/dist-packages/torchani/utils.py:158: UserWarning: To copy construct from a tensor, it is recommended to use sourceTensor.clone().detach() or sourceTensor.clone().detach().requires_grad_(True), rather than torch.tensor(sourceTensor).\n",
            "  self_energies = torch.tensor(self_energies, dtype=torch.double)\n",
            "/usr/local/lib/python3.10/dist-packages/torchani/utils.py:158: UserWarning: To copy construct from a tensor, it is recommended to use sourceTensor.clone().detach() or sourceTensor.clone().detach().requires_grad_(True), rather than torch.tensor(sourceTensor).\n",
            "  self_energies = torch.tensor(self_energies, dtype=torch.double)\n",
            "/usr/local/lib/python3.10/dist-packages/torchani/utils.py:158: UserWarning: To copy construct from a tensor, it is recommended to use sourceTensor.clone().detach() or sourceTensor.clone().detach().requires_grad_(True), rather than torch.tensor(sourceTensor).\n",
            "  self_energies = torch.tensor(self_energies, dtype=torch.double)\n",
            "/usr/local/lib/python3.10/dist-packages/torchani/utils.py:158: UserWarning: To copy construct from a tensor, it is recommended to use sourceTensor.clone().detach() or sourceTensor.clone().detach().requires_grad_(True), rather than torch.tensor(sourceTensor).\n",
            "  self_energies = torch.tensor(self_energies, dtype=torch.double)\n"
          ]
        }
      ]
    },
    {
      "cell_type": "code",
      "source": [
        "result_container"
      ],
      "metadata": {
        "colab": {
          "base_uri": "https://localhost:8080/"
        },
        "id": "Oivkm2XWigRn",
        "outputId": "0b55ab25-d296-4fef-f9f0-8c5e8fe9a1a2"
      },
      "execution_count": 21,
      "outputs": [
        {
          "output_type": "execute_result",
          "data": {
            "text/plain": [
              "{'AIQM2': -2078.5030187064012,\n",
              " 'AIQM2@DFT': -2080.119653381089,\n",
              " 'ANI-1x': -2078.6371573450933,\n",
              " 'ANI-1ccx': -2078.499179621973,\n",
              " 'ANI-2x': -2078.630411468652,\n",
              " 'ANI-1x-D4': -2078.6377851896827,\n",
              " 'ANI-2x-D4': -2078.631039313241,\n",
              " 'ANI-1xnr': -468.34292529141237,\n",
              " 'ANI-1ccx-gelu': -2078.49647835524,\n",
              " 'ANI-1ccx-gelu-D4': -2078.4971061998294,\n",
              " 'ANI-1x-gelu': -2078.6247796598855,\n",
              " 'ANI-1x-gelu-d4': -2078.625407504475}"
            ]
          },
          "metadata": {},
          "execution_count": 21
        }
      ]
    },
    {
      "cell_type": "code",
      "source": [],
      "metadata": {
        "id": "mY2MB5uGigUB"
      },
      "execution_count": null,
      "outputs": []
    },
    {
      "cell_type": "code",
      "source": [
        "#@title ase calculator\n",
        "\n",
        "import numpy as np\n",
        "import mlatom as ml\n",
        "import ase\n",
        "from ase.calculators.calculator import Calculator, all_changes\n",
        "from ase.units import Hartree\n",
        "\n",
        "class MLatom2Calculator(Calculator):\n",
        "    \"\"\"\n",
        "    ASE Calculator for AIQM & AIQM2 model using MLAtom\n",
        "\n",
        "    Implements energy and force calculations\n",
        "    \"\"\"\n",
        "    implemented_properties = ['energy', 'forces']\n",
        "\n",
        "    def __init__(self, charge=0, multiplicity=1, method='AIQM2'):\n",
        "        \"\"\"\n",
        "        Initialize the AIQM2 Calculator\n",
        "\n",
        "        Parameters:\n",
        "        -----------\n",
        "        charge : int, optional\n",
        "            Molecular system charge (default: 0)\n",
        "        multiplicity : int, optional\n",
        "            Spin multiplicity (default: 1)\n",
        "        method : str, optional\n",
        "            mlatom method (default: 'AIQM2')\n",
        "\n",
        "        Note)\n",
        "        'aiqm2': ['AIQM2', 'AIQM2@DFT']\n",
        "        'torchani': [\n",
        "          \"ANI-1x\", \"ANI-1ccx\", \"ANI-2x\", 'ANI-1x-D4',\n",
        "          'ANI-2x-D4', 'ANI-1xnr', 'ANI-1ccx-gelu',\n",
        "          'ANI-1ccx-gelu-D4', 'ANI-1x-gelu', 'ANI-1x-gelu-d4'\n",
        "          ]\n",
        "        \"\"\"\n",
        "        super().__init__()\n",
        "        self.charge = charge\n",
        "        self.multiplicity = multiplicity\n",
        "        self._model = ml.models.methods(method=method)\n",
        "        self.molecule = None\n",
        "\n",
        "    def _convert_mlatom_molecule(self, atoms:ase.Atoms):\n",
        "        \"\"\"Convert ASE Atoms to MLAtom molecule\"\"\"\n",
        "\n",
        "        molecule = ml.data.molecule(\n",
        "            charge=self.charge,\n",
        "            multiplicity=self.multiplicity\n",
        "        ).read_from_numpy(\n",
        "            coordinates=self.atoms.positions,\n",
        "            species=np.array(self.atoms.symbols)\n",
        "        )\n",
        "        self.molecule = molecule\n",
        "\n",
        "    def calculate(self, atoms=None, properties=None, system_changes=all_changes):\n",
        "        \"\"\"\n",
        "        Calculate energy and forces for the system\n",
        "\n",
        "        Parameters:\n",
        "        -----------\n",
        "        atoms : ase.Atoms\n",
        "            Atoms object to calculate\n",
        "        properties : list\n",
        "            Properties to calculate\n",
        "        system_changes : list\n",
        "            List of system changes\n",
        "        \"\"\"\n",
        "        # Apply standard Calculator checks for system changes\n",
        "        if properties is None:\n",
        "            properties = self.implemented_properties\n",
        "\n",
        "        super().calculate(atoms, properties, system_changes)\n",
        "\n",
        "        # mlatom molecule object\n",
        "        self._convert_mlatom_molecule(atoms)\n",
        "\n",
        "        # calculate energy and gradients\n",
        "        self._model.predict(\n",
        "            molecule=self.molecule,\n",
        "            calculate_energy=True if 'energy' in properties else False,\n",
        "            calculate_energy_gradients=True if 'forces' in properties else False\n",
        "        )\n",
        "\n",
        "        # unit conversion\n",
        "        # energy : Ha => eV\n",
        "        # forces : Ha/Ang => eV/Ang\n",
        "        self.results['energy'] = self.molecule.energy * Hartree\n",
        "        self.results['forces'] = - self.molecule.energy_gradients * Hartree"
      ],
      "metadata": {
        "id": "tiir54EpWr-R",
        "cellView": "form"
      },
      "execution_count": null,
      "outputs": []
    },
    {
      "cell_type": "code",
      "source": [
        "import mlatom as ml\n",
        "from ase.build import molecule\n",
        "import numpy as np\n",
        "\n",
        "atoms = molecule('H2O')\n",
        "\n",
        "mol = ml.data.molecule(charge=0, multiplicity=1).read_from_numpy(\n",
        "    coordinates=atoms.positions,\n",
        "    species=np.array(atoms.symbols)\n",
        "    )\n",
        "\n",
        "model = ml.models.methods(method='ANI-1x')\n",
        "\n",
        "model.predict(molecule=mol, calculate_energy_gradients=True, calculate_energy=True)\n",
        "mol.energy, mol.energy_gradients"
      ],
      "metadata": {
        "id": "bQu-ZVJiQgcu",
        "outputId": "0d354cc6-c606-47f7-da72-e5de9bd4ff99",
        "colab": {
          "base_uri": "https://localhost:8080/"
        }
      },
      "execution_count": 15,
      "outputs": [
        {
          "output_type": "stream",
          "name": "stdout",
          "text": [
            "/usr/local/lib/python3.10/dist-packages/torchani/resources/\n",
            "/usr/local/lib/python3.10/dist-packages/torchani/resources/\n"
          ]
        },
        {
          "output_type": "execute_result",
          "data": {
            "text/plain": [
              "(-76.388507203702,\n",
              " array([[ 0.        ,  0.        ,  0.00282202],\n",
              "        [ 0.        ,  0.00595023, -0.00141101],\n",
              "        [ 0.        , -0.00595023, -0.00141101]]))"
            ]
          },
          "metadata": {},
          "execution_count": 15
        }
      ]
    },
    {
      "cell_type": "code",
      "source": [],
      "metadata": {
        "id": "5-gOE34aWsGt"
      },
      "execution_count": null,
      "outputs": []
    },
    {
      "cell_type": "code",
      "source": [],
      "metadata": {
        "id": "fyvNScHRWsI9"
      },
      "execution_count": null,
      "outputs": []
    },
    {
      "cell_type": "code",
      "source": [],
      "metadata": {
        "id": "r8nTilMJWsLD"
      },
      "execution_count": null,
      "outputs": []
    },
    {
      "cell_type": "code",
      "source": [],
      "metadata": {
        "id": "uECTbv4ykpCB"
      },
      "execution_count": null,
      "outputs": []
    }
  ]
}